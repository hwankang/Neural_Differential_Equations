{
  "nbformat": 4,
  "nbformat_minor": 0,
  "metadata": {
    "colab": {
      "name": "Untitled82.ipynb",
      "private_outputs": true,
      "provenance": [],
      "authorship_tag": "ABX9TyOtPQ6fqCMyYPFSe+A6jNgR",
      "include_colab_link": true
    },
    "kernelspec": {
      "name": "python3",
      "display_name": "Python 3"
    },
    "language_info": {
      "name": "python"
    },
    "accelerator": "GPU",
    "gpuClass": "standard"
  },
  "cells": [
    {
      "cell_type": "markdown",
      "metadata": {
        "id": "view-in-github",
        "colab_type": "text"
      },
      "source": [
        "<a href=\"https://colab.research.google.com/github/hwankang/Neural_Differential_Equations/blob/master/torch_07_18.ipynb\" target=\"_parent\"><img src=\"https://colab.research.google.com/assets/colab-badge.svg\" alt=\"Open In Colab\"/></a>"
      ]
    },
    {
      "cell_type": "code",
      "execution_count": null,
      "metadata": {
        "id": "QdU-PODPDhGl"
      },
      "outputs": [],
      "source": [
        "import torch\n",
        "import math"
      ]
    },
    {
      "cell_type": "code",
      "source": [
        "import torch.nn as nn\n",
        "class Model(nn.Module):\n",
        "    def __init__(self,inputs):\n",
        "        super(Model, self).__init__()\n",
        "        self.layer =nn.Linear(inputs,1)\n",
        "        self.activation=nn.Sigmoid()\n",
        "    def forward(self,x):\n",
        "        x = self.layer(x)\n",
        "        x = self.activation(x)\n",
        "        return x\n",
        "\n"
      ],
      "metadata": {
        "id": "ONpavb7eDp7H"
      },
      "execution_count": null,
      "outputs": []
    },
    {
      "cell_type": "code",
      "source": [
        "model = Model(1)\n",
        "print(list(model.children()))"
      ],
      "metadata": {
        "id": "RdIjr5p6GaUt"
      },
      "execution_count": null,
      "outputs": []
    },
    {
      "cell_type": "markdown",
      "source": [
        "#패션MNIST 모델 "
      ],
      "metadata": {
        "id": "eK-yt6OyUwPD"
      }
    },
    {
      "cell_type": "code",
      "source": [
        "from torchvision import transforms\n",
        "transform =transforms.Compose([transforms.ToTensor(),\n",
        "                              transforms.Normalize((0.5,),(0.5,))])"
      ],
      "metadata": {
        "id": "DdjbTXgEUvJz"
      },
      "execution_count": null,
      "outputs": []
    },
    {
      "cell_type": "code",
      "source": [
        "trainset = datasets.FashionMNIST(root='/content/',\n",
        "                                 train=True, download=True,\n",
        "                                 transform=transform)\n",
        "    "
      ],
      "metadata": {
        "id": "NRKoFRXNWNTw"
      },
      "execution_count": null,
      "outputs": []
    }
  ]
}